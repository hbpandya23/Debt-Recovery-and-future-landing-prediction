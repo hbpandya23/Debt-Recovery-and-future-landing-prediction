{
  "cells": [
    {
      "metadata": {
        "trusted": true
      },
      "cell_type": "code",
      "source": "import pandas as pd\nimport numpy as np\nfrom pandas import Series,DataFrame",
      "execution_count": 1,
      "outputs": []
    },
    {
      "metadata": {
        "trusted": true
      },
      "cell_type": "code",
      "source": "from sklearn.model_selection import train_test_split\nfrom sklearn import svm\nfrom sklearn.model_selection import cross_validate\nfrom sklearn.metrics.scorer import make_scorer\nfrom sklearn.metrics import confusion_matrix\nfrom sklearn.svm import LinearSVC\nfrom sklearn.svm import SVC",
      "execution_count": 2,
      "outputs": []
    },
    {
      "metadata": {
        "trusted": true
      },
      "cell_type": "code",
      "source": "df = pd.read_csv('New_ds_final_2.csv')",
      "execution_count": 10,
      "outputs": []
    },
    {
      "metadata": {
        "trusted": true
      },
      "cell_type": "code",
      "source": "dfdata = df.iloc[:,1:-1]",
      "execution_count": 4,
      "outputs": []
    },
    {
      "metadata": {
        "trusted": true
      },
      "cell_type": "code",
      "source": "dftarget = df['target_loan_status']",
      "execution_count": 5,
      "outputs": []
    },
    {
      "metadata": {
        "trusted": true
      },
      "cell_type": "code",
      "source": "X_train, X_test, y_train, y_test = train_test_split(dfdata, dftarget, test_size=0.3)",
      "execution_count": 12,
      "outputs": []
    },
    {
      "metadata": {
        "trusted": true
      },
      "cell_type": "code",
      "source": "from sklearn.linear_model import LogisticRegression\nlr = LogisticRegression()\nlr.fit(X_train, y_train)\nlr.score(X_test, y_test)\nlr.predict(X_test.tail())",
      "execution_count": 17,
      "outputs": [
        {
          "output_type": "stream",
          "text": "/home/nbuser/anaconda3_501/lib/python3.6/site-packages/sklearn/linear_model/logistic.py:433: FutureWarning: Default solver will be changed to 'lbfgs' in 0.22. Specify a solver to silence this warning.\n  FutureWarning)\n",
          "name": "stderr"
        },
        {
          "output_type": "execute_result",
          "execution_count": 17,
          "data": {
            "text/plain": "array([1, 1, 1, 1, 1])"
          },
          "metadata": {}
        }
      ]
    },
    {
      "metadata": {
        "trusted": true
      },
      "cell_type": "code",
      "source": "df.head()",
      "execution_count": 8,
      "outputs": [
        {
          "output_type": "execute_result",
          "execution_count": 8,
          "data": {
            "text/html": "<div>\n<style scoped>\n    .dataframe tbody tr th:only-of-type {\n        vertical-align: middle;\n    }\n\n    .dataframe tbody tr th {\n        vertical-align: top;\n    }\n\n    .dataframe thead th {\n        text-align: right;\n    }\n</style>\n<table border=\"1\" class=\"dataframe\">\n  <thead>\n    <tr style=\"text-align: right;\">\n      <th></th>\n      <th>Unnamed: 0</th>\n      <th>Unnamed: 0.1</th>\n      <th>id</th>\n      <th>loan_amnt</th>\n      <th>funded_amnt</th>\n      <th>funded_amnt_inv</th>\n      <th>term</th>\n      <th>int_rate</th>\n      <th>installment</th>\n      <th>home_ownership</th>\n      <th>...</th>\n      <th>last_pymnt_amnt</th>\n      <th>last_fico_range_high</th>\n      <th>last_fico_range_low</th>\n      <th>policy_code</th>\n      <th>acc_now_delinq</th>\n      <th>delinq_amnt</th>\n      <th>pub_rec_bankruptcies</th>\n      <th>group_emp_length</th>\n      <th>group_annual_inc</th>\n      <th>target_loan_status</th>\n    </tr>\n  </thead>\n  <tbody>\n    <tr>\n      <th>0</th>\n      <td>0</td>\n      <td>0</td>\n      <td>1077501</td>\n      <td>5000</td>\n      <td>5000</td>\n      <td>4975.0</td>\n      <td>1</td>\n      <td>10.65</td>\n      <td>162.87</td>\n      <td>1</td>\n      <td>...</td>\n      <td>171.62</td>\n      <td>734</td>\n      <td>730</td>\n      <td>1</td>\n      <td>0</td>\n      <td>0</td>\n      <td>0</td>\n      <td>3</td>\n      <td>1</td>\n      <td>1</td>\n    </tr>\n    <tr>\n      <th>1</th>\n      <td>1</td>\n      <td>1</td>\n      <td>1077430</td>\n      <td>2500</td>\n      <td>2500</td>\n      <td>2500.0</td>\n      <td>2</td>\n      <td>15.27</td>\n      <td>59.83</td>\n      <td>1</td>\n      <td>...</td>\n      <td>119.66</td>\n      <td>499</td>\n      <td>0</td>\n      <td>1</td>\n      <td>0</td>\n      <td>0</td>\n      <td>0</td>\n      <td>0</td>\n      <td>1</td>\n      <td>0</td>\n    </tr>\n    <tr>\n      <th>2</th>\n      <td>2</td>\n      <td>2</td>\n      <td>1077175</td>\n      <td>2400</td>\n      <td>2400</td>\n      <td>2400.0</td>\n      <td>1</td>\n      <td>15.96</td>\n      <td>84.33</td>\n      <td>1</td>\n      <td>...</td>\n      <td>649.91</td>\n      <td>739</td>\n      <td>735</td>\n      <td>1</td>\n      <td>0</td>\n      <td>0</td>\n      <td>0</td>\n      <td>3</td>\n      <td>0</td>\n      <td>1</td>\n    </tr>\n    <tr>\n      <th>3</th>\n      <td>3</td>\n      <td>3</td>\n      <td>1076863</td>\n      <td>10000</td>\n      <td>10000</td>\n      <td>10000.0</td>\n      <td>1</td>\n      <td>13.49</td>\n      <td>339.31</td>\n      <td>1</td>\n      <td>...</td>\n      <td>357.48</td>\n      <td>604</td>\n      <td>600</td>\n      <td>1</td>\n      <td>0</td>\n      <td>0</td>\n      <td>0</td>\n      <td>3</td>\n      <td>2</td>\n      <td>1</td>\n    </tr>\n    <tr>\n      <th>4</th>\n      <td>4</td>\n      <td>4</td>\n      <td>1075358</td>\n      <td>3000</td>\n      <td>3000</td>\n      <td>3000.0</td>\n      <td>2</td>\n      <td>12.69</td>\n      <td>67.79</td>\n      <td>1</td>\n      <td>...</td>\n      <td>67.30</td>\n      <td>684</td>\n      <td>680</td>\n      <td>1</td>\n      <td>0</td>\n      <td>0</td>\n      <td>0</td>\n      <td>0</td>\n      <td>4</td>\n      <td>1</td>\n    </tr>\n  </tbody>\n</table>\n<p>5 rows × 44 columns</p>\n</div>",
            "text/plain": "   Unnamed: 0  Unnamed: 0.1       id  loan_amnt  funded_amnt  funded_amnt_inv  \\\n0           0             0  1077501       5000         5000           4975.0   \n1           1             1  1077430       2500         2500           2500.0   \n2           2             2  1077175       2400         2400           2400.0   \n3           3             3  1076863      10000        10000          10000.0   \n4           4             4  1075358       3000         3000           3000.0   \n\n   term  int_rate  installment  home_ownership         ...          \\\n0     1     10.65       162.87               1         ...           \n1     2     15.27        59.83               1         ...           \n2     1     15.96        84.33               1         ...           \n3     1     13.49       339.31               1         ...           \n4     2     12.69        67.79               1         ...           \n\n   last_pymnt_amnt  last_fico_range_high  last_fico_range_low  policy_code  \\\n0           171.62                   734                  730            1   \n1           119.66                   499                    0            1   \n2           649.91                   739                  735            1   \n3           357.48                   604                  600            1   \n4            67.30                   684                  680            1   \n\n   acc_now_delinq  delinq_amnt  pub_rec_bankruptcies  group_emp_length  \\\n0               0            0                     0                 3   \n1               0            0                     0                 0   \n2               0            0                     0                 3   \n3               0            0                     0                 3   \n4               0            0                     0                 0   \n\n   group_annual_inc  target_loan_status  \n0                 1                   1  \n1                 1                   0  \n2                 0                   1  \n3                 2                   1  \n4                 4                   1  \n\n[5 rows x 44 columns]"
          },
          "metadata": {}
        }
      ]
    },
    {
      "metadata": {
        "trusted": true,
        "scrolled": true
      },
      "cell_type": "code",
      "source": "rf = RandomForestClassifier(n_estimators=40)\nrf.fit(X_train, y_train)\nrf.score(X_test, y_test)\nrf.predict(X_test.tail())",
      "execution_count": 39,
      "outputs": [
        {
          "output_type": "execute_result",
          "execution_count": 39,
          "data": {
            "text/plain": "array([1, 0, 1, 1, 1])"
          },
          "metadata": {}
        }
      ]
    },
    {
      "metadata": {
        "trusted": true
      },
      "cell_type": "code",
      "source": "from sklearn.ensemble import RandomForestClassifier",
      "execution_count": 28,
      "outputs": []
    },
    {
      "metadata": {
        "trusted": true
      },
      "cell_type": "code",
      "source": "from sklearn.model_selection import KFold",
      "execution_count": 27,
      "outputs": []
    },
    {
      "metadata": {
        "trusted": true
      },
      "cell_type": "code",
      "source": "kf = KFold(n_splits=3)\nkf",
      "execution_count": 29,
      "outputs": [
        {
          "output_type": "execute_result",
          "execution_count": 29,
          "data": {
            "text/plain": "KFold(n_splits=3, random_state=None, shuffle=False)"
          },
          "metadata": {}
        }
      ]
    },
    {
      "metadata": {
        "trusted": true
      },
      "cell_type": "code",
      "source": "def get_score(model, X_train, X_test, y_train, y_test):\n    model.fit(X_train, y_train)\n    print(model.predict(X1).astype(int))\n    return model.score(X_test, y_test)",
      "execution_count": 59,
      "outputs": []
    },
    {
      "metadata": {
        "trusted": true
      },
      "cell_type": "code",
      "source": "for train_index, test_index in kf.split([1,2,3,4,5,6,7,8,9]):\n    print(train_index, test_index)\n",
      "execution_count": null,
      "outputs": []
    },
    {
      "metadata": {
        "trusted": true
      },
      "cell_type": "code",
      "source": "from sklearn.model_selection import StratifiedKFold\nfolds = StratifiedKFold(n_splits=3)",
      "execution_count": 31,
      "outputs": []
    },
    {
      "metadata": {
        "trusted": true
      },
      "cell_type": "code",
      "source": "scores_l = []\nscores_rf = []\n\nfor train_index, test_index in kf.split(dfdata):\n    X_train, X_test, y_train, y_test = dfdata.iloc[train_index], dfdata.iloc[test_index],\\\n    dftarget.iloc[train_index], dftarget.iloc[test_index]\n    \n    scores_l.append(get_score(LogisticRegression(), X_train, X_test, y_train, y_test))\n    scores_rf.append(get_score(RandomForestClassifier(), X_train, X_test, y_train, y_test))",
      "execution_count": 62,
      "outputs": [
        {
          "output_type": "stream",
          "text": "/home/nbuser/anaconda3_501/lib/python3.6/site-packages/sklearn/linear_model/logistic.py:433: FutureWarning: Default solver will be changed to 'lbfgs' in 0.22. Specify a solver to silence this warning.\n  FutureWarning)\n",
          "name": "stderr"
        },
        {
          "output_type": "stream",
          "text": "[1 0 1 1 1]\n",
          "name": "stdout"
        },
        {
          "output_type": "stream",
          "text": "/home/nbuser/anaconda3_501/lib/python3.6/site-packages/sklearn/ensemble/forest.py:246: FutureWarning: The default value of n_estimators will change from 10 in version 0.20 to 100 in 0.22.\n  \"10 in version 0.20 to 100 in 0.22.\", FutureWarning)\n",
          "name": "stderr"
        },
        {
          "output_type": "stream",
          "text": "[1 0 1 1 1]\n",
          "name": "stdout"
        },
        {
          "output_type": "stream",
          "text": "/home/nbuser/anaconda3_501/lib/python3.6/site-packages/sklearn/linear_model/logistic.py:433: FutureWarning: Default solver will be changed to 'lbfgs' in 0.22. Specify a solver to silence this warning.\n  FutureWarning)\n",
          "name": "stderr"
        },
        {
          "output_type": "stream",
          "text": "[1 0 1 1 1]\n",
          "name": "stdout"
        },
        {
          "output_type": "stream",
          "text": "/home/nbuser/anaconda3_501/lib/python3.6/site-packages/sklearn/ensemble/forest.py:246: FutureWarning: The default value of n_estimators will change from 10 in version 0.20 to 100 in 0.22.\n  \"10 in version 0.20 to 100 in 0.22.\", FutureWarning)\n",
          "name": "stderr"
        },
        {
          "output_type": "stream",
          "text": "[1 0 1 1 1]\n",
          "name": "stdout"
        },
        {
          "output_type": "stream",
          "text": "/home/nbuser/anaconda3_501/lib/python3.6/site-packages/sklearn/linear_model/logistic.py:433: FutureWarning: Default solver will be changed to 'lbfgs' in 0.22. Specify a solver to silence this warning.\n  FutureWarning)\n",
          "name": "stderr"
        },
        {
          "output_type": "stream",
          "text": "[1 0 1 1 1]\n",
          "name": "stdout"
        },
        {
          "output_type": "stream",
          "text": "/home/nbuser/anaconda3_501/lib/python3.6/site-packages/sklearn/ensemble/forest.py:246: FutureWarning: The default value of n_estimators will change from 10 in version 0.20 to 100 in 0.22.\n  \"10 in version 0.20 to 100 in 0.22.\", FutureWarning)\n",
          "name": "stderr"
        },
        {
          "output_type": "stream",
          "text": "[1 0 1 1 1]\n",
          "name": "stdout"
        }
      ]
    },
    {
      "metadata": {
        "trusted": true
      },
      "cell_type": "code",
      "source": "scores_l",
      "execution_count": 61,
      "outputs": [
        {
          "output_type": "execute_result",
          "execution_count": 61,
          "data": {
            "text/plain": "[0.9899967065086706, 0.993118550782448, 0.9735700460243916]"
          },
          "metadata": {}
        }
      ]
    },
    {
      "metadata": {
        "trusted": true
      },
      "cell_type": "code",
      "source": "scores_rf",
      "execution_count": 40,
      "outputs": [
        {
          "output_type": "execute_result",
          "execution_count": 40,
          "data": {
            "text/plain": "[0.998589164785553, 0.9992239858906525, 0.9966137566137566]"
          },
          "metadata": {}
        }
      ]
    },
    {
      "metadata": {
        "trusted": true
      },
      "cell_type": "code",
      "source": "from sklearn.model_selection import cross_val_score",
      "execution_count": 19,
      "outputs": []
    },
    {
      "metadata": {
        "trusted": true
      },
      "cell_type": "code",
      "source": "cross_val_score(MultinomialNB(), dfdata, dftarget)",
      "execution_count": 46,
      "outputs": [
        {
          "output_type": "stream",
          "text": "/home/nbuser/anaconda3_501/lib/python3.6/site-packages/sklearn/model_selection/_split.py:2053: FutureWarning: You should specify a value for 'cv' instead of relying on the default value. The default value will change from 3 to 5 in version 0.22.\n  warnings.warn(CV_WARNING, FutureWarning)\n",
          "name": "stderr"
        },
        {
          "output_type": "execute_result",
          "execution_count": 46,
          "data": {
            "text/plain": "array([0.65653217, 0.73862434, 0.81968254])"
          },
          "metadata": {}
        }
      ]
    },
    {
      "metadata": {
        "trusted": true
      },
      "cell_type": "code",
      "source": "cross_val_score(RandomForestClassifier(n_estimators=4), dfdata, dftarget)",
      "execution_count": null,
      "outputs": []
    },
    {
      "metadata": {
        "trusted": true
      },
      "cell_type": "code",
      "source": "y_pred_test = lr.predict(X_test)\ndfdata1 = accuracy_score(y_pred = y_pred_test, y_true = y_test)\n\nCM = confusion_matrix(y_pred = y_pred_test, y_true = y_test)\nCMatrix(CM)",
      "execution_count": null,
      "outputs": []
    },
    {
      "metadata": {
        "trusted": true
      },
      "cell_type": "code",
      "source": "from sklearn.metrics import accuracy_score, confusion_matrix",
      "execution_count": 41,
      "outputs": []
    },
    {
      "metadata": {
        "trusted": true
      },
      "cell_type": "code",
      "source": "from sklearn.naive_bayes import MultinomialNB",
      "execution_count": 42,
      "outputs": []
    },
    {
      "metadata": {
        "trusted": true
      },
      "cell_type": "code",
      "source": "nb = MultinomialNB()\nnb.fit(X_train, y_train)\nnb.score(X_test, y_test)\n",
      "execution_count": 45,
      "outputs": [
        {
          "output_type": "execute_result",
          "execution_count": 45,
          "data": {
            "text/plain": "0.8427513227513228"
          },
          "metadata": {}
        }
      ]
    },
    {
      "metadata": {
        "trusted": true
      },
      "cell_type": "code",
      "source": "cross_val_score(MultinomialNB(), dfdata, dftarget)",
      "execution_count": 44,
      "outputs": [
        {
          "output_type": "stream",
          "text": "/home/nbuser/anaconda3_501/lib/python3.6/site-packages/sklearn/model_selection/_split.py:2053: FutureWarning: You should specify a value for 'cv' instead of relying on the default value. The default value will change from 3 to 5 in version 0.22.\n  warnings.warn(CV_WARNING, FutureWarning)\n",
          "name": "stderr"
        },
        {
          "output_type": "execute_result",
          "execution_count": 44,
          "data": {
            "text/plain": "array([0.65653217, 0.73862434, 0.81968254])"
          },
          "metadata": {}
        }
      ]
    },
    {
      "metadata": {
        "trusted": true
      },
      "cell_type": "code",
      "source": "import xgboost as xgb",
      "execution_count": 52,
      "outputs": []
    },
    {
      "metadata": {
        "trusted": true
      },
      "cell_type": "code",
      "source": "!pip install xgboost",
      "execution_count": 50,
      "outputs": [
        {
          "output_type": "stream",
          "text": "Collecting xgboost\n\u001b[?25l  Downloading https://files.pythonhosted.org/packages/c1/24/5fe7237b2eca13ee0cfb100bec8c23f4e69ce9df852a64b0493d49dae4e0/xgboost-0.90-py2.py3-none-manylinux1_x86_64.whl (142.8MB)\n\u001b[K     |████████████████████████████████| 142.8MB 1.9kB/s eta 0:00:013  |█▊                              | 7.8MB 4.3MB/s eta 0:00:32     |███████                         | 31.6MB 673kB/s eta 0:02:46     |████████▍                       | 37.2MB 2.2MB/s eta 0:00:48     |█████████▋                      | 43.1MB 2.1MB/s eta 0:00:47     |███████████████                 | 66.8MB 3.7MB/s eta 0:00:21     |██████████████████▋             | 83.1MB 2.6MB/s eta 0:00:24     |████████████████████▊           | 92.5MB 5.0MB/s eta 0:00:11     |█████████████████████           | 93.5MB 5.0MB/s eta 0:00:10     |█████████████████████▎          | 95.1MB 3.2MB/s eta 0:00:16     |█████████████████████▍          | 95.5MB 3.2MB/s eta 0:00:15     |█████████████████████████▋      | 114.4MB 181kB/s eta 0:02:37     |█████████████████████████▋      | 114.5MB 181kB/s eta 0:02:36     |█████████████████████████▉      | 115.4MB 181kB/s eta 0:02:31     |██████████████████████████      | 116.1MB 790kB/s eta 0:00:34     |█████████████████████████████▉  | 133.2MB 2.4MB/s eta 0:00:05     |███████████████████████████████▎| 139.5MB 2.4MB/s eta 0:00:02\n\u001b[?25hRequirement already satisfied: scipy in /home/nbuser/anaconda3_501/lib/python3.6/site-packages (from xgboost) (1.1.0)\nRequirement already satisfied: numpy in /home/nbuser/anaconda3_501/lib/python3.6/site-packages (from xgboost) (1.16.2)\nInstalling collected packages: xgboost\nSuccessfully installed xgboost-0.90\n\u001b[33mWARNING: You are using pip version 19.1.1, however version 19.2.1 is available.\nYou should consider upgrading via the 'pip install --upgrade pip' command.\u001b[0m\n",
          "name": "stdout"
        }
      ]
    },
    {
      "metadata": {
        "trusted": true
      },
      "cell_type": "code",
      "source": "xgb_model = xgb.XGBRegressor(objective=\"reg:linear\", random_state=42)",
      "execution_count": 53,
      "outputs": []
    },
    {
      "metadata": {
        "trusted": true
      },
      "cell_type": "code",
      "source": "xgb_model.fit(X_train, y_train)\nxgb_model.score(X_test,y_test)",
      "execution_count": 54,
      "outputs": [
        {
          "output_type": "stream",
          "text": "/home/nbuser/anaconda3_501/lib/python3.6/site-packages/xgboost/core.py:587: FutureWarning: Series.base is deprecated and will be removed in a future version\n  if getattr(data, 'base', None) is not None and \\\n",
          "name": "stderr"
        },
        {
          "output_type": "stream",
          "text": "[23:28:10] WARNING: /workspace/src/objective/regression_obj.cu:152: reg:linear is now deprecated in favor of reg:squarederror.\n",
          "name": "stdout"
        },
        {
          "output_type": "execute_result",
          "execution_count": 54,
          "data": {
            "text/plain": "0.9735700460243916"
          },
          "metadata": {}
        }
      ]
    },
    {
      "metadata": {
        "trusted": true
      },
      "cell_type": "code",
      "source": "xgb_model.predict(X1).astype(int)",
      "execution_count": 56,
      "outputs": [
        {
          "output_type": "execute_result",
          "execution_count": 56,
          "data": {
            "text/plain": "array([0, 0, 1, 0, 1])"
          },
          "metadata": {}
        }
      ]
    },
    {
      "metadata": {
        "trusted": true
      },
      "cell_type": "code",
      "source": "cross_val_score(xgb.XGBRegressor(objective=\"reg:linear\", random_state=42), dfdata, dftarget)",
      "execution_count": null,
      "outputs": []
    },
    {
      "metadata": {
        "trusted": true
      },
      "cell_type": "code",
      "source": "X1 = dfdata.tail(5)",
      "execution_count": 35,
      "outputs": []
    },
    {
      "metadata": {
        "trusted": true
      },
      "cell_type": "code",
      "source": "dftarget.head(10)",
      "execution_count": null,
      "outputs": []
    },
    {
      "metadata": {
        "trusted": true
      },
      "cell_type": "code",
      "source": "",
      "execution_count": null,
      "outputs": []
    }
  ],
  "metadata": {
    "kernelspec": {
      "name": "python36",
      "display_name": "Python 3.6",
      "language": "python"
    },
    "language_info": {
      "mimetype": "text/x-python",
      "nbconvert_exporter": "python",
      "name": "python",
      "pygments_lexer": "ipython3",
      "version": "3.6.6",
      "file_extension": ".py",
      "codemirror_mode": {
        "version": 3,
        "name": "ipython"
      }
    }
  },
  "nbformat": 4,
  "nbformat_minor": 2
}